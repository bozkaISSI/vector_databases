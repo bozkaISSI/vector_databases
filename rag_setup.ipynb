{
 "cells": [
  {
   "cell_type": "code",
   "id": "4728be2f-fd75-4167-a05c-bb4428c96fb9",
   "metadata": {
    "ExecuteTime": {
     "end_time": "2025-04-26T18:32:05.821215Z",
     "start_time": "2025-04-26T18:32:05.745669Z"
    }
   },
   "source": [
    "# Connect to Milvus\n",
    "from pymilvus import MilvusClient\n",
    "\n",
    "host = \"localhost\"\n",
    "port = \"19530\"\n",
    "\n",
    "milvus_client = MilvusClient(\n",
    "    host=host,\n",
    "    port=port\n",
    ")\n"
   ],
   "outputs": [],
   "execution_count": 5
  },
  {
   "cell_type": "code",
   "id": "9215d0ea-ed92-40bb-968f-7d4ec89ad13c",
   "metadata": {
    "ExecuteTime": {
     "end_time": "2025-04-26T18:32:10.179472Z",
     "start_time": "2025-04-26T18:32:10.170287Z"
    }
   },
   "source": [
    "# Define schema for the collection\n",
    "from pymilvus import FieldSchema, CollectionSchema, DataType\n",
    "\n",
    "VECTOR_LENGTH = 768  # Dimensionality for Silver Retriever Base (v1.1)\n",
    "\n",
    "# Define the fields\n",
    "id_field = FieldSchema(\n",
    "    name=\"id\",\n",
    "    dtype=DataType.INT64,\n",
    "    is_primary=True,\n",
    "    description=\"Primary id\"\n",
    ")\n",
    "text_field = FieldSchema(\n",
    "    name=\"text\",\n",
    "    dtype=DataType.VARCHAR,\n",
    "    max_length=4096,\n",
    "    description=\"Original text content\"\n",
    ")\n",
    "embedding_field = FieldSchema(\n",
    "    name=\"embedding\",\n",
    "    dtype=DataType.FLOAT_VECTOR,\n",
    "    dim=VECTOR_LENGTH,\n",
    "    description=\"Text embeddings\"\n",
    ")\n",
    "\n",
    "# Create list of fields\n",
    "fields = [id_field, text_field, embedding_field]\n",
    "\n",
    "# Define the full collection schema\n",
    "schema = CollectionSchema(\n",
    "    fields=fields,\n",
    "    auto_id=True,                # Let Milvus generate IDs automatically\n",
    "    enable_dynamic_field=True,   # Allow adding extra fields easily later\n",
    "    description=\"RAG Texts Collection\"\n",
    ")\n"
   ],
   "outputs": [],
   "execution_count": 6
  },
  {
   "cell_type": "code",
   "id": "ad0c58b5-e9f6-45a5-975f-921a73cf7054",
   "metadata": {
    "ExecuteTime": {
     "end_time": "2025-04-26T18:32:17.769708Z",
     "start_time": "2025-04-26T18:32:17.129955Z"
    }
   },
   "source": [
    "# Create the collection and index it\n",
    "COLLECTION_NAME = \"rag_texts_and_embeddings\"\n",
    "\n",
    "# Create collection\n",
    "milvus_client.create_collection(\n",
    "    collection_name=COLLECTION_NAME,\n",
    "    schema=schema\n",
    ")\n",
    "\n",
    "# Prepare and create index\n",
    "index_params = milvus_client.prepare_index_params()\n",
    "\n",
    "index_params.add_index(\n",
    "    field_name=\"embedding\",\n",
    "    index_type=\"HNSW\",\n",
    "    metric_type=\"L2\",\n",
    "    params={\"M\": 4, \"efConstruction\": 64}\n",
    ")\n",
    "\n",
    "milvus_client.create_index(\n",
    "    collection_name=COLLECTION_NAME,\n",
    "    index_params=index_params\n",
    ")\n",
    "\n",
    "# Check collection\n",
    "print(milvus_client.list_collections())\n",
    "\n",
    "# Describe collection\n",
    "print(milvus_client.describe_collection(COLLECTION_NAME))\n"
   ],
   "outputs": [
    {
     "name": "stdout",
     "output_type": "stream",
     "text": [
      "['rag_texts_and_embeddings']\n",
      "{'collection_name': 'rag_texts_and_embeddings', 'auto_id': True, 'num_shards': 1, 'description': 'RAG Texts Collection', 'fields': [{'field_id': 100, 'name': 'id', 'description': 'Primary id', 'type': <DataType.INT64: 5>, 'params': {}, 'auto_id': True, 'is_primary': True}, {'field_id': 101, 'name': 'text', 'description': 'Original text content', 'type': <DataType.VARCHAR: 21>, 'params': {'max_length': 4096}}, {'field_id': 102, 'name': 'embedding', 'description': 'Text embeddings', 'type': <DataType.FLOAT_VECTOR: 101>, 'params': {'dim': 768}}], 'functions': [], 'aliases': [], 'collection_id': 457622759785627888, 'consistency_level': 2, 'properties': {}, 'num_partitions': 1, 'enable_dynamic_field': True, 'created_timestamp': 457622772028276739}\n"
     ]
    }
   ],
   "execution_count": 7
  },
  {
   "metadata": {
    "ExecuteTime": {
     "end_time": "2025-04-26T18:34:15.372757Z",
     "start_time": "2025-04-26T18:34:15.362588Z"
    }
   },
   "cell_type": "code",
   "source": [
    "# Define data source and destination paths\n",
    "## URL of the document to be downloaded\n",
    "pdf_url = \"https://www.iab.org.pl/wp-content/uploads/2024/04/Przewodnik-po-sztucznej-inteligencji-2024_IAB-Polska.pdf\"\n",
    "\n",
    "## Local destination for the PDF document\n",
    "file_name = \"Przewodnik-po-sztucznej-inteligencji-2024_IAB-Polska.pdf\"\n",
    "\n",
    "## Local destination for the processed JSON version of the document\n",
    "file_json = \"Przewodnik-po-sztucznej-inteligencji-2024_IAB-Polska.json\"\n",
    "\n",
    "## Local destination for the embedded pages (after vectorization)\n",
    "embeddings_json = \"Przewodnik-po-sztucznej-inteligencji-2024_IAB-Polska-Embeddings.json\"\n",
    "\n",
    "## Folder to store all the above local files\n",
    "data_dir = \"./data\"\n",
    "\n",
    "# Create the directory if it doesn't exist\n",
    "import os\n",
    "if not os.path.exists(data_dir):\n",
    "    os.makedirs(data_dir)\n"
   ],
   "id": "c2d533ea3748f28",
   "outputs": [],
   "execution_count": 8
  },
  {
   "metadata": {
    "ExecuteTime": {
     "end_time": "2025-04-26T18:36:46.862349Z",
     "start_time": "2025-04-26T18:36:45.374958Z"
    }
   },
   "cell_type": "code",
   "source": [
    "# Import required libraries\n",
    "import os\n",
    "import requests\n",
    "\n",
    "# Function to download PDF data from the URL and save it locally\n",
    "def download_pdf_data(pdf_url: str, file_name: str) -> None:\n",
    "    response = requests.get(pdf_url, stream=True)\n",
    "    # Ensure the data_dir exists before saving the file\n",
    "    if not os.path.exists(data_dir):\n",
    "        os.makedirs(data_dir)\n",
    "    # Save the PDF to the specified path in data_dir\n",
    "    with open(os.path.join(data_dir, file_name), \"wb\") as file:\n",
    "        for block in response.iter_content(chunk_size=1024):\n",
    "            if block:  # If there's data to write, write it to the file\n",
    "                file.write(block)\n",
    "\n",
    "# Call the function to download the document\n",
    "download_pdf_data(pdf_url, file_name)\n"
   ],
   "id": "a15693892722ef8b",
   "outputs": [],
   "execution_count": 9
  },
  {
   "metadata": {
    "ExecuteTime": {
     "end_time": "2025-04-26T18:57:16.788704Z",
     "start_time": "2025-04-26T18:56:39.634551Z"
    }
   },
   "cell_type": "code",
   "source": [
    "# **chunk** | json\n",
    "import pdfplumber\n",
    "import json\n",
    "\n",
    "def extract_pdf_text(file_name, file_json):\n",
    "    with pdfplumber.open(file_name) as pdf:\n",
    "        pages = []\n",
    "        for page_num, page in enumerate(pdf.pages):\n",
    "            page_text = page.extract_text()\n",
    "            pages.append({\"page_num\": page_num, \"text\": page_text})\n",
    "    \n",
    "    # Specify UTF-8 encoding here\n",
    "    with open(file_json, \"w\", encoding=\"utf-8\") as f:\n",
    "        json.dump(pages, f, indent=4, ensure_ascii=False)\n",
    "\n",
    "# Corrected paths\n",
    "file_name = \"./data/Przewodnik-po-sztucznej-inteligencji-2024_IAB-Polska.pdf\"\n",
    "file_json = \"./data/Przewodnik-po-sztucznej-inteligencji-2024_IAB-Polska.json\"\n",
    "extract_pdf_text(file_name, file_json)\n"
   ],
   "id": "1fbb41ac515b9eae",
   "outputs": [],
   "execution_count": 33
  },
  {
   "metadata": {
    "ExecuteTime": {
     "end_time": "2025-04-26T19:07:51.116699Z",
     "start_time": "2025-04-26T19:05:03.479402Z"
    }
   },
   "cell_type": "code",
   "source": [
    "import os\n",
    "import json\n",
    "import torch\n",
    "import numpy as np\n",
    "from sentence_transformers import SentenceTransformer\n",
    "\n",
    "# Ensure data_dir is properly defined\n",
    "data_dir = \"./data\"\n",
    "\n",
    "def generate_embeddings(file_json, embeddings_json, model):\n",
    "    pages = []\n",
    "    \n",
    "    # Correct path to the JSON file, ensuring no redundant directory references\n",
    "    file_path = os.path.join(data_dir, file_json)\n",
    "    \n",
    "    # Check if file exists\n",
    "    if not os.path.exists(file_path):\n",
    "        raise FileNotFoundError(f\"The file {file_json} was not found in the directory {data_dir}\")\n",
    "    \n",
    "    with open(file_path, \"r\", encoding=\"utf-8\") as file:\n",
    "        data = json.load(file)\n",
    "\n",
    "    for page in data:\n",
    "        pages.append(page[\"text\"])\n",
    "\n",
    "    # Generate embeddings for each page of text\n",
    "    embeddings = model.encode(pages)\n",
    "\n",
    "    embeddings_paginated = []\n",
    "    \n",
    "    # Prepare the final structure: {\"page\": page_num, \"embedding\": embedded_text}\n",
    "    for page_num in range(len(embeddings)):\n",
    "        embeddings_paginated.append({\n",
    "            \"page_num\": page_num, \n",
    "            \"embedding\": embeddings[page_num].tolist()  # Convert to list to make it JSON serializable\n",
    "        })\n",
    "\n",
    "    # Correct path for saving embeddings to JSON file\n",
    "    embeddings_file_path = os.path.join(data_dir, embeddings_json)\n",
    "    \n",
    "    # Save the embeddings to a JSON file\n",
    "    with open(embeddings_file_path, \"w\", encoding=\"utf-8\") as file:\n",
    "        json.dump(embeddings_paginated, file, indent=4, ensure_ascii=False)\n",
    "\n",
    "# Define the model and device\n",
    "model_name = \"ipipan/silver-retriever-base-v1.1\"\n",
    "device = \"cuda\" if torch.cuda.is_available() else \"cpu\"\n",
    "model = SentenceTransformer(model_name, device=device)\n",
    "\n",
    "# Generate the embeddings and save them\n",
    "generate_embeddings(\"Przewodnik-po-sztucznej-inteligencji-2024_IAB-Polska.json\", \n",
    "                    \"Przewodnik-po-sztucznej-inteligencji-2024_IAB-Polska-Embeddings.json\", \n",
    "                    model)\n"
   ],
   "id": "4d7bf6f94959a1e8",
   "outputs": [],
   "execution_count": 37
  }
 ],
 "metadata": {
  "kernelspec": {
   "display_name": "Python 3 (ipykernel)",
   "language": "python",
   "name": "python3"
  },
  "language_info": {
   "codemirror_mode": {
    "name": "ipython",
    "version": 3
   },
   "file_extension": ".py",
   "mimetype": "text/x-python",
   "name": "python",
   "nbconvert_exporter": "python",
   "pygments_lexer": "ipython3",
   "version": "3.13.1"
  }
 },
 "nbformat": 4,
 "nbformat_minor": 5
}
