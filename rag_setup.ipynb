{
 "cells": [
  {
   "cell_type": "code",
   "id": "4728be2f-fd75-4167-a05c-bb4428c96fb9",
   "metadata": {
    "jupyter": {
     "is_executing": true
    }
   },
   "source": [
    "from pymilvus import MilvusClient\n",
    "\n",
    "host = \"localhost\"\n",
    "port = \"19530\"\n",
    "\n",
    "milvus_client = MilvusClient(\n",
    "    host=host,\n",
    "    port=port\n",
    ")\n"
   ],
   "outputs": [],
   "execution_count": null
  },
  {
   "cell_type": "code",
   "id": "9215d0ea-ed92-40bb-968f-7d4ec89ad13c",
   "metadata": {
    "jupyter": {
     "is_executing": true
    }
   },
   "source": [
    "from pymilvus import FieldSchema, CollectionSchema, DataType\n",
    "\n",
    "VECTOR_LENGTH = 768  # Dimensionality for Silver Retriever Base (v1.1)\n",
    "\n",
    "# Define the fields\n",
    "id_field = FieldSchema(\n",
    "    name=\"id\",\n",
    "    dtype=DataType.INT64,\n",
    "    is_primary=True,\n",
    "    description=\"Primary id\"\n",
    ")\n",
    "text_field = FieldSchema(\n",
    "    name=\"text\",\n",
    "    dtype=DataType.VARCHAR,\n",
    "    max_length=4096,\n",
    "    description=\"Original text content\"\n",
    ")\n",
    "embedding_field = FieldSchema(\n",
    "    name=\"embedding\",\n",
    "    dtype=DataType.FLOAT_VECTOR,\n",
    "    dim=VECTOR_LENGTH,\n",
    "    description=\"Text embeddings\"\n",
    ")\n",
    "\n",
    "# Create list of fields\n",
    "fields = [id_field, text_field, embedding_field]\n",
    "\n",
    "# Define the full collection schema\n",
    "schema = CollectionSchema(\n",
    "    fields=fields,\n",
    "    auto_id=True,                # Let Milvus generate IDs automatically\n",
    "    enable_dynamic_field=True,   # Allow adding extra fields easily later\n",
    "    description=\"RAG Texts Collection\"\n",
    ")\n"
   ],
   "outputs": [],
   "execution_count": null
  },
  {
   "cell_type": "code",
   "execution_count": null,
   "id": "ad0c58b5-e9f6-45a5-975f-921a73cf7054",
   "metadata": {},
   "outputs": [],
   "source": []
  }
 ],
 "metadata": {
  "kernelspec": {
   "display_name": "Python 3 (ipykernel)",
   "language": "python",
   "name": "python3"
  },
  "language_info": {
   "codemirror_mode": {
    "name": "ipython",
    "version": 3
   },
   "file_extension": ".py",
   "mimetype": "text/x-python",
   "name": "python",
   "nbconvert_exporter": "python",
   "pygments_lexer": "ipython3",
   "version": "3.13.1"
  }
 },
 "nbformat": 4,
 "nbformat_minor": 5
}
